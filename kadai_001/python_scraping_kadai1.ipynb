{
  "nbformat": 4,
  "nbformat_minor": 0,
  "metadata": {
    "colab": {
      "provenance": []
    },
    "kernelspec": {
      "name": "python3",
      "display_name": "Python 3"
    },
    "language_info": {
      "name": "python"
    }
  },
  "cells": [
    {
      "cell_type": "code",
      "execution_count": 2,
      "metadata": {
        "colab": {
          "base_uri": "https://localhost:8080/"
        },
        "id": "8eAcaHfSifW-",
        "outputId": "ce855654-a402-4cef-8e0e-36beec3a714e"
      },
      "outputs": [
        {
          "output_type": "stream",
          "name": "stdout",
          "text": [
            "Requirement already satisfied: requests in /usr/local/lib/python3.10/dist-packages (2.32.3)\n",
            "Requirement already satisfied: charset-normalizer<4,>=2 in /usr/local/lib/python3.10/dist-packages (from requests) (3.4.0)\n",
            "Requirement already satisfied: idna<4,>=2.5 in /usr/local/lib/python3.10/dist-packages (from requests) (3.10)\n",
            "Requirement already satisfied: urllib3<3,>=1.21.1 in /usr/local/lib/python3.10/dist-packages (from requests) (2.2.3)\n",
            "Requirement already satisfied: certifi>=2017.4.17 in /usr/local/lib/python3.10/dist-packages (from requests) (2024.8.30)\n",
            "Requirement already satisfied: beautifulsoup4 in /usr/local/lib/python3.10/dist-packages (4.12.3)\n",
            "Requirement already satisfied: soupsieve>1.2 in /usr/local/lib/python3.10/dist-packages (from beautifulsoup4) (2.6)\n",
            "Requirement already satisfied: requests in /usr/local/lib/python3.10/dist-packages (2.32.3)\n",
            "Requirement already satisfied: beautifulsoup4 in /usr/local/lib/python3.10/dist-packages (4.12.3)\n",
            "Requirement already satisfied: charset-normalizer<4,>=2 in /usr/local/lib/python3.10/dist-packages (from requests) (3.4.0)\n",
            "Requirement already satisfied: idna<4,>=2.5 in /usr/local/lib/python3.10/dist-packages (from requests) (3.10)\n",
            "Requirement already satisfied: urllib3<3,>=1.21.1 in /usr/local/lib/python3.10/dist-packages (from requests) (2.2.3)\n",
            "Requirement already satisfied: certifi>=2017.4.17 in /usr/local/lib/python3.10/dist-packages (from requests) (2024.8.30)\n",
            "Requirement already satisfied: soupsieve>1.2 in /usr/local/lib/python3.10/dist-packages (from beautifulsoup4) (2.6)\n"
          ]
        }
      ],
      "source": [
        "!pip install requests\n",
        "!pip install beautifulsoup4\n",
        "!pip install requests beautifulsoup4\n"
      ]
    },
    {
      "cell_type": "code",
      "source": [
        "import requests\n",
        "from bs4 import BeautifulSoup\n",
        "\n",
        "url = 'https://news.yahoo.co.jp/articles/34c500404419397ab7262d1f53a1a87f73ebaa7f'\n",
        "response = requests.get(url)\n",
        "soup = BeautifulSoup(response.text, 'html.parser')\n",
        "element = soup.find('p', class_='sc-54nboa-0 deLyrJ yjSlinkDirectlink highLightSearchTarget')\n",
        "print(element.text)"
      ],
      "metadata": {
        "colab": {
          "base_uri": "https://localhost:8080/"
        },
        "id": "bckm7EA0jDli",
        "outputId": "e13b8043-16ca-4e1b-9703-9519cf761152"
      },
      "execution_count": 7,
      "outputs": [
        {
          "output_type": "stream",
          "name": "stdout",
          "text": [
            "　政府は、従来の健康保険証の新規発行を停止し、マイナンバーカードと一体化した「マイナ保険証」に本格移行したことを受け、不安解消と混乱回避に全力を挙げる。\n",
            "\n",
            "【ひと目で分かる】マイナ保険証の利用状況\n",
            "\n",
            "　野党は石破茂首相が現行保険証との併用に一時言及していたことを踏まえて「変節」批判を展開、国会で追及を強める方針だ。\n",
            "\n",
            "　首相は2日の衆院本会議で「マイナ保険証は本人の健康医療情報を活用した適切な医療の提供に大きく寄与するものだ」と利点を強調。「丁寧に周知し、国民の不安に迅速に応えていく」と理解を求めた。\n",
            "\n",
            "　現行保険証の廃止は、岸田前政権当時の河野太郎デジタル相が2022年10月に唐突に表明。カード取得の事実上の義務化との批判を招いたが、石破政権は方針を堅持した。政府は混乱を避けるため、現行保険証を最長1年間使える猶予期間を設定。マイナ保険証を使えない人には、代わりとなる「資格確認書」を発行する。\n",
            "\n",
            "　マイナ保険証がなくても保険診療が受けられる体制を整備し、不安払拭に努める考えだ。マイナ保険証の10月の利用率は15．67％にとどまる。トラブルも続いたことが影響しているとみられる。\n",
            "\n",
            "　首相は9月の自民党総裁選の際には「不利益を感じる人がいる状況があれば、（現行保険証との）併用も選択肢となるのは当然だ」と述べ、保険証廃止時期の見直しに言及していた。このため野党は、首相が就任後に主張を変えたとして国会で攻勢を強める構えだ。立憲民主党の石川香織氏は代表質問で、首相に発言変更の「真意」をただしたが、首相は正面から答えなかった。\n",
            "\n",
            "　立民は現行保険証の廃止時期を延期する法案を提出しており、政府を揺さぶる。長妻昭代表代行は、一本化を急ぐ政府方針に「とんでもないことだ。（現行保険証の）新規発行停止によりいろいろな弊害が出てくる」と記者団に指摘。併用実現に向けて各党に賛同を呼び掛ける考えを示した。\n",
            "\n",
            "　首相は所信表明演説で持論の政策に触れず「石破カラー」を封印した。石川氏は代表質問で、マイナ保険証でも「多くの国民を期待させたのに裏切った」と指弾した。　\n"
          ]
        }
      ]
    }
  ]
}