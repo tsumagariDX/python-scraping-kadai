{
  "nbformat": 4,
  "nbformat_minor": 0,
  "metadata": {
    "colab": {
      "provenance": []
    },
    "kernelspec": {
      "name": "python3",
      "display_name": "Python 3"
    },
    "language_info": {
      "name": "python"
    }
  },
  "cells": [
    {
      "cell_type": "code",
      "execution_count": 1,
      "metadata": {
        "colab": {
          "base_uri": "https://localhost:8080/"
        },
        "id": "hSIJ23UatjqI",
        "outputId": "1dd554b5-fb74-4669-f09c-b19c64188072"
      },
      "outputs": [
        {
          "output_type": "stream",
          "name": "stdout",
          "text": [
            "Requirement already satisfied: requests in /usr/local/lib/python3.10/dist-packages (2.32.3)\n",
            "Requirement already satisfied: charset-normalizer<4,>=2 in /usr/local/lib/python3.10/dist-packages (from requests) (3.4.0)\n",
            "Requirement already satisfied: idna<4,>=2.5 in /usr/local/lib/python3.10/dist-packages (from requests) (3.10)\n",
            "Requirement already satisfied: urllib3<3,>=1.21.1 in /usr/local/lib/python3.10/dist-packages (from requests) (2.2.3)\n",
            "Requirement already satisfied: certifi>=2017.4.17 in /usr/local/lib/python3.10/dist-packages (from requests) (2024.8.30)\n"
          ]
        }
      ],
      "source": [
        "!pip install requests\n"
      ]
    },
    {
      "cell_type": "code",
      "source": [
        "import requests\n",
        "import pprint\n",
        "from getpass import getpass\n",
        "\n",
        "# APIキーを指定\n",
        "api_key = getpass('APIキーを入力してください: ')\n",
        "\n",
        "# 検索キーワードを変数station_nameに格納\n",
        "station_name = input('検索する駅を入力してください: ')\n",
        "\n",
        "# APIエンドポイント\n",
        "geocode_url = 'https://maps.googleapis.com/maps/api/geocode/json'\n",
        "\n",
        "# APIパラメータを設定\n",
        "geocode_params = {\n",
        "        \"address\": station_name,\n",
        "        \"key\": api_key\n",
        "}\n",
        "\n",
        "# APIリクエストを送信\n",
        "response = requests.get(geocode_url, params=geocode_params)\n",
        "geocode_data = response.json()\n",
        "\n",
        "# 緯度経度を取得\n",
        "location = geocode_data[\"results\"][0][\"geometry\"][\"location\"]\n",
        "lat = location[\"lat\"]\n",
        "lng = location[\"lng\"]\n",
        "\n",
        "# APIエンドポイント\n",
        "nearby_url = 'https://maps.googleapis.com/maps/api/place/nearbysearch/json'\n",
        "\n",
        "# APIパラメータを設定\n",
        "nearby_params = {\n",
        "        \"location\": f\"{lat},{lng}\",\n",
        "        \"language\": \"ja\",\n",
        "        \"radius\":500,\n",
        "        \"type\":\"restaurant\",\n",
        "        \"key\":api_key,\n",
        "}\n",
        "\n",
        "# APIリクエストを送信\n",
        "response = requests.get(nearby_url, params=nearby_params)\n",
        "# JSONレスポンスを整形して表示\n",
        "nearby_data = response.json()\n",
        "\n",
        "# レストラン情報を表示\n",
        "nearby_data.get('results')\n",
        "for item in nearby_data['results']:\n",
        "    restaurant_name = item.get('name')\n",
        "    restaurant_review = item.get('rating')\n",
        "    restaurant_address = item.get('vicinity')\n",
        "\n",
        "    print(f\" {restaurant_name}{restaurant_review}{restaurant_address}\")\n",
        "\n",
        "\n",
        "\n"
      ],
      "metadata": {
        "colab": {
          "base_uri": "https://localhost:8080/"
        },
        "id": "0gdzFELGvDUh",
        "outputId": "89a88949-4cda-47ab-dea9-633d779eba84"
      },
      "execution_count": 29,
      "outputs": [
        {
          "output_type": "stream",
          "name": "stdout",
          "text": [
            "APIキーを入力してください: ··········\n",
            "検索する駅を入力してください: 秋葉原\n",
            " とんこつラーメン 博多風龍 秋葉原総本店4千代田区外神田３丁目１５−６\n",
            " トラットリア ラ・テスタドゥーラ4.3千代田区神田須田町１丁目１３−８ 加納ビル 1階\n",
            " 伊吹や製麺 秋葉原UDX店3.6千代田区外神田４丁目１４−１ 秋葉原UDXレストラン街アキバイチ 2F\n",
            " デニーズ秋葉原中央口店3.7千代田区神田佐久間町１丁目８−３ ダイハツ秋葉原ビル２Ｆ\n",
            " スターバックス コーヒー アトレ秋葉原1店3.9千代田区外神田１丁目１７−６ アトレ秋葉原 １\n",
            " ペッパーランチ 秋葉原店3.8千代田区外神田１丁目１５−１\n",
            " てんぷら 天芳4.2千代田区神田練塀町３−１０\n",
            " ローストビーフ大野 秋葉原店4.6千代田区外神田１丁目２−３ 土屋ビル 地下1階\n",
            " そば処 新田毎3.5千代田区外神田１丁目１７−６ 改札内 4階 総武線下り6番ホーム中ほど 秋葉原駅\n",
            " かんだやぶそば4千代田区神田淡路町２丁目１０\n",
            " カールスジュニア秋葉原中央通りレストラン4.1千代田区外神田４丁目４−３ 秋葉原Silビル 1階\n",
            " 中華料理 雁川3.8千代田区外神田３丁目１０−１０ 白銀会館 Ｂ１Ｆ\n",
            " 春日亭 秋葉原店4.1千代田区外神田３丁目１−１２ 大石ビル 1F\n",
            " カラオケパセラ秋葉原電気街店4.1千代田区外神田１丁目１３−２ パセラリゾーツ秋葉原電気街店１Ｆ\n",
            " いろり庵きらく 秋葉原3.6千代田区神田花岡町１−９\n",
            " Blossom & Bouquet 秋葉原UDX店3.8千代田区外神田４丁目１４−１ 秋葉原UDXビル 5F\n",
            " カラオケパセラ秋葉原昭和通り館4千代田区神田佐久間町２丁目１０ パセラリゾーツ 秋葉原昭和通り館 １F\n",
            " ホテルマイステイズ御茶ノ水コンファレンスセンター4.1千代田区神田淡路町２丁目１０−６\n",
            " 名代 富士そば 昭和通り店3.4千代田区神田和泉町１−２\n",
            " アジアンダイニングバーSAPANA秋葉原UDX店3.9千代田区外神田４丁目１４−１ 秋葉原UDX2F\n"
          ]
        }
      ]
    }
  ]
}