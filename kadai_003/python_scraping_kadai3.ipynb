{
  "nbformat": 4,
  "nbformat_minor": 0,
  "metadata": {
    "colab": {
      "provenance": []
    },
    "kernelspec": {
      "name": "python3",
      "display_name": "Python 3"
    },
    "language_info": {
      "name": "python"
    }
  },
  "cells": [
    {
      "cell_type": "code",
      "execution_count": 23,
      "metadata": {
        "colab": {
          "base_uri": "https://localhost:8080/"
        },
        "id": "JimPA41uTUId",
        "outputId": "db4787f4-cb41-4b46-fb66-d3839132b298"
      },
      "outputs": [
        {
          "output_type": "stream",
          "name": "stdout",
          "text": [
            "Requirement already satisfied: selenium in /usr/local/lib/python3.10/dist-packages (4.27.1)\n",
            "Requirement already satisfied: urllib3<3,>=1.26 in /usr/local/lib/python3.10/dist-packages (from urllib3[socks]<3,>=1.26->selenium) (2.2.3)\n",
            "Requirement already satisfied: trio~=0.17 in /usr/local/lib/python3.10/dist-packages (from selenium) (0.27.0)\n",
            "Requirement already satisfied: trio-websocket~=0.9 in /usr/local/lib/python3.10/dist-packages (from selenium) (0.11.1)\n",
            "Requirement already satisfied: certifi>=2021.10.8 in /usr/local/lib/python3.10/dist-packages (from selenium) (2024.8.30)\n",
            "Requirement already satisfied: typing_extensions~=4.9 in /usr/local/lib/python3.10/dist-packages (from selenium) (4.12.2)\n",
            "Requirement already satisfied: websocket-client~=1.8 in /usr/local/lib/python3.10/dist-packages (from selenium) (1.8.0)\n",
            "Requirement already satisfied: attrs>=23.2.0 in /usr/local/lib/python3.10/dist-packages (from trio~=0.17->selenium) (24.2.0)\n",
            "Requirement already satisfied: sortedcontainers in /usr/local/lib/python3.10/dist-packages (from trio~=0.17->selenium) (2.4.0)\n",
            "Requirement already satisfied: idna in /usr/local/lib/python3.10/dist-packages (from trio~=0.17->selenium) (3.10)\n",
            "Requirement already satisfied: outcome in /usr/local/lib/python3.10/dist-packages (from trio~=0.17->selenium) (1.3.0.post0)\n",
            "Requirement already satisfied: sniffio>=1.3.0 in /usr/local/lib/python3.10/dist-packages (from trio~=0.17->selenium) (1.3.1)\n",
            "Requirement already satisfied: exceptiongroup in /usr/local/lib/python3.10/dist-packages (from trio~=0.17->selenium) (1.2.2)\n",
            "Requirement already satisfied: wsproto>=0.14 in /usr/local/lib/python3.10/dist-packages (from trio-websocket~=0.9->selenium) (1.2.0)\n",
            "Requirement already satisfied: pysocks!=1.5.7,<2.0,>=1.5.6 in /usr/local/lib/python3.10/dist-packages (from urllib3[socks]<3,>=1.26->selenium) (1.7.1)\n",
            "Requirement already satisfied: h11<1,>=0.9.0 in /usr/local/lib/python3.10/dist-packages (from wsproto>=0.14->trio-websocket~=0.9->selenium) (0.14.0)\n"
          ]
        }
      ],
      "source": [
        "!pip install selenium\n"
      ]
    },
    {
      "cell_type": "code",
      "source": [
        "# 必要なライブラリをインポート\n",
        "\n",
        "from selenium import webdriver\n",
        "from selenium.webdriver.common.by import By\n",
        "from selenium.webdriver.support.ui import WebDriverWait\n",
        "from selenium.webdriver.support import expected_conditions as EC\n",
        "from getpass import getpass\n",
        "\n",
        "# ヘッドレスモードで起動するためのオプションを設定\n",
        "chrome_options = webdriver.ChromeOptions()\n",
        "chrome_options.add_argument('--headless')\n",
        "chrome_options.add_argument('--no-sandbox')\n",
        "chrome_options.add_argument('--disable-dev-shm-usage')\n",
        "\n",
        "# Chromeを立ち上げる\n",
        "chrome_driver = webdriver.Chrome(options=chrome_options)\n",
        "\n",
        "# TERAKOYAのトップページにアクセス\n",
        "chrome_driver.get('https://terakoya.sejuku.net/register')\n",
        "\n",
        "# 最大30秒間、ログインボタンが表示されるのを待つ\n",
        "wait = WebDriverWait(chrome_driver, 30)\n",
        "header_login_button = wait.until(\n",
        "    EC.visibility_of_element_located(\n",
        "        (By.CSS_SELECTOR,\n",
        "         \"#root > header > div\")\n",
        "    )\n",
        ")\n",
        "\n",
        "# ログインボタンをクリックする\n",
        "header_login_button.click()\n",
        "\n",
        "# メールアドレスとパスワードを入力する\n",
        "email_address = input('メールアドレスを入力してください: ')\n",
        "password = getpass('パスワードを入力してください: ')\n",
        "\n",
        "# メールアドレスとパスワードの入力欄を見つける\n",
        "parent_element = chrome_driver.find_element(By.CSS_SELECTOR, \"#root > div.sc-khLCKb.tZnDg > div.sc-keTIit.buQVBz > div.sc-cHqXqK.dKKBKh > div\")\n",
        "email_input = parent_element.find_element(By.NAME, 'email')\n",
        "password_input = parent_element.find_element(By.NAME, 'password')\n",
        "\n",
        "# メールアドレスとパスワードを設定\n",
        "email_input.send_keys(email_address)\n",
        "password_input.send_keys(password)\n",
        "\n",
        "# ログインボタンをクリックしてログイン\n",
        "form_login_button = wait.until(\n",
        "    EC.visibility_of_element_located(\n",
        "        (By.CSS_SELECTOR,\n",
        "          \"#root > div.sc-khLCKb.tZnDg > div.sc-keTIit.buQVBz > div.sc-cHqXqK.dKKBKh > button\")\n",
        "    )\n",
        ")\n",
        "\n",
        "form_login_button.click()\n",
        "\n",
        "# ログイン後、要素が読み込まれるまで待つ\n",
        "wait.until(EC.visibility_of_element_located((By.CSS_SELECTOR, 'nav > img ')))\n",
        "\n",
        "# 最大30秒間、アイコンが表示されるのを待つ\n",
        "profile_button = wait.until(\n",
        "    EC.element_to_be_clickable((By.CSS_SELECTOR, \"#root > div.sc-gWJJD.hyTxMu > div > div > header > div.sc-jGSdlx.gcsnm > div.sc-gYGZqq.cWPPBU > div\"))\n",
        ")\n",
        "profile_button.click()\n",
        "# 最大30秒間、アカウント設定ボタンが表示されるのを待つ\n",
        "setting_button = wait.until(\n",
        "    EC.element_to_be_clickable((By.CSS_SELECTOR, \"#root > div.sc-gWJJD.hyTxMu > div > div > header > div.sc-kcYkIz.hzMEAK > ul > a:nth-child(1) > li\"))\n",
        ")\n",
        "setting_button.click()\n",
        "\n",
        "# 最大30秒間、編集ボタンが表示されるのを待つ\n",
        "wait = WebDriverWait(chrome_driver, 30)\n",
        "header_edit_button = wait.until(\n",
        "    EC.visibility_of_element_located(\n",
        "        (By.CSS_SELECTOR,\n",
        "        \"#root > div.sc-fyvmDH.jORjGq > div > div > main > div > div.sc-jwCnVG.hHcEAb > button\")\n",
        "    )\n",
        ")\n",
        "\n",
        "# 編集ボタンをクリックする\n",
        "header_edit_button.click()\n",
        "\n",
        "main = \"プログラミング学習中です！今はスクレイピングに挑戦しています！\"\n",
        "\n",
        "# 自己紹介フォームを取得する\n",
        "element = chrome_driver.find_element(By.CSS_SELECTOR,\"#root > div.sc-fyvmDH.jORjGq > div > div > main > div > div.sc-jwCnVG.hHcEAb > div:nth-child(10) > div.sc-cyFmji.iuLYyr > textarea\")\n",
        "\n",
        "element.send_keys(main)\n",
        "\n",
        "\n",
        "# 更新するボタンをクリック\n",
        "form_update_button = wait.until(\n",
        "    EC.visibility_of_element_located(\n",
        "        (By.CSS_SELECTOR,\n",
        "         \"#root > div.sc-fyvmDH.jORjGq > div > div > main > div > div.sc-jwCnVG.hHcEAb > button.sc-dntaoT.kyNRci.sc-cYKPkC.imRDWN\")\n",
        "    )\n",
        ")\n",
        "\n",
        "form_update_button.click()\n",
        "\n",
        "# 更新後、要素が読み込まれるまで待つ\n",
        "wait.until(EC.visibility_of_element_located((By.CSS_SELECTOR, 'nav > img ')))\n",
        "\n",
        "# スクリーンショットを撮る\n",
        "chrome_driver.save_screenshot('screenshot.png')\n",
        "\n",
        "chrome_driver.quit()\n"
      ],
      "metadata": {
        "colab": {
          "base_uri": "https://localhost:8080/"
        },
        "id": "1CRr-hT_vuMX",
        "outputId": "e3b44162-334b-40a4-894e-048fb8be6986"
      },
      "execution_count": 24,
      "outputs": [
        {
          "name": "stdout",
          "output_type": "stream",
          "text": [
            "メールアドレスを入力してください: tsumagari@tokyo-gas.co.jp\n",
            "パスワードを入力してください: ··········\n"
          ]
        }
      ]
    }
  ]
}